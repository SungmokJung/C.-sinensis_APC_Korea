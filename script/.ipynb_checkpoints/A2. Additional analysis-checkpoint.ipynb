{
 "cells": [
  {
   "cell_type": "code",
   "execution_count": null,
   "metadata": {},
   "outputs": [],
   "source": [
    "libraries = c(\"dplyr\",\"magrittr\",\"tidyr\",\"ggplot2\",\"readxl\",\"RColorBrewer\",\"zoo\",\n",
    "              \"readxl\",\"writexl\",\"gridExtra\",\"MASS\",\"ggpubr\", \"mixdist\",\"lubridate\")\n",
    "for(x in libraries) { library(x,character.only=TRUE,warn.conflicts=FALSE,quietly=TRUE) }\n",
    "\n",
    "'%&%' = function(x,y)paste0(x,y)\n",
    "\n",
    "theme_set(theme_bw())\n",
    "version$version.string\n",
    "    \n",
    "options(scipen=10000)"
   ]
  },
  {
   "cell_type": "markdown",
   "metadata": {},
   "source": [
    "# Data"
   ]
  },
  {
   "cell_type": "code",
   "execution_count": null,
   "metadata": {},
   "outputs": [],
   "source": [
    "read_excel_allsheets <- function(filename, tibble = FALSE) {\n",
    "    sheets <- readxl::excel_sheets(filename)\n",
    "    x <- lapply(sheets, function(X) readxl::read_excel(filename, sheet = X))\n",
    "    if(!tibble) x <- lapply(x, as.data.frame)\n",
    "    names(x) <- sheets\n",
    "    x}"
   ]
  },
  {
   "cell_type": "code",
   "execution_count": null,
   "metadata": {},
   "outputs": [],
   "source": [
    "options(warn=-1)\n",
    "raw_data <- read_excel_allsheets(\"../../../Korea_Elimination_Csinensis_2022_personal/data/KDCA_data_2012.xlsx\") \n",
    "options(warn=0)\n",
    "                \n",
    "for (i in 9:length(raw_data)){\n",
    "    as.numeric(raw_data[[i]]$간흡충) -> raw_data[[i]]$간흡충\n",
    "    raw_data[[i]] %<>% mutate(간흡충=case_when(간흡충 >=24 ~ c(\"Pos\"), TRUE ~ c(\"Neg\"))) %>% dplyr::select(-'양성\\r\\n여부')\n",
    "}\n",
    "                \n",
    "do.call(\"rbind\", raw_data) %>% \n",
    "rename(site=보건소, postal=행정코드, ward=조사구, household=세대, Csinensis=간흡충) %>%\n",
    "dplyr::select(site, postal, ward, household, Q1, Q2, Q3, Q4, Q5, Q6, Q7, Q8, Q9, Q10, Q11, Csinensis) %>%\n",
    "mutate(Csinensis=case_when(Csinensis==c(\"Pos\") ~ 1, Csinensis==c(\"Neg\") ~ 0,\n",
    "                           Csinensis==c(\"양성\") ~ 1, Csinensis==c(\"음성\") ~ 0, TRUE ~ 999)) %>% \n",
    "filter(Csinensis < 999) %>% \n",
    "rename(birth = Q3, sex=Q2, edu=Q4, occu=Q5, fresh=Q6, ocean=Q7, beef=Q8, pork=Q9, res=Q10, inc=Q11) -> raw_data_all"
   ]
  },
  {
   "cell_type": "code",
   "execution_count": null,
   "metadata": {},
   "outputs": [],
   "source": [
    "#### if only the birth month is not available, replace it with June\n",
    "raw_data_all %<>% \n",
    "mutate(birth = case_when(substr(birth,5,6)==c(\"00\") ~ paste0(substr(birth,1,4),c(\"06\")), TRUE ~ birth))\n",
    "\n",
    "raw_data_all$birth <- as.Date(paste0(raw_data_all$birth,01),format=\"%Y%m%d\")\n",
    "raw_data_all$postal <- as.numeric(raw_data_all$postal)\n",
    "raw_data_all %<>% mutate(age = floor(as.numeric(as.Date(\"2012-10-01\")-birth)/365.25),\n",
    "                         age_group1 = case_when(age <= 19 ~ 1,\n",
    "                                                age > 19 & age <= 29 ~ 2,\n",
    "                                                age > 29 & age <= 39 ~ 3,\n",
    "                                                age > 39 & age <= 49 ~ 4,\n",
    "                                                age > 49 & age <= 59 ~ 5,\n",
    "                                                age >= 60 ~ 6)) %>% \n",
    "dplyr::select(-c(\"Q1\")) %>% filter(!is.na(postal)) %>% filter(age >=0 & age <= 100)"
   ]
  },
  {
   "cell_type": "code",
   "execution_count": null,
   "metadata": {},
   "outputs": [],
   "source": [
    "read_excel(\"../../../Korea_Elimination_Csinensis_2022_personal/data/adm_code.xls\", sheet=c(\"2012년\")) -> postal_dt\n",
    "postal_dt %<>% rename(postal=읍면동코드, postal_1=시도명칭, postal_2=시군구명칭, postal_3=읍면동명칭) %>%\n",
    "dplyr::select(postal, postal_1, postal_2, postal_3)\n",
    "\n",
    "merge(raw_data_all, postal_dt, by=c(\"postal\"), all.x=TRUE) %>% filter(!is.na(postal_1)) -> raw_data_detail"
   ]
  },
  {
   "cell_type": "markdown",
   "metadata": {},
   "source": [
    "# Prevalence of Clonorchis sinensis"
   ]
  },
  {
   "cell_type": "code",
   "execution_count": null,
   "metadata": {},
   "outputs": [],
   "source": [
    "## Total\n",
    "raw_data_detail %>% group_by(age_group1) %>% summarise(Prevalence=sum(Csinensis)/n()) %>% \n",
    "na.omit() %>% as.data.frame() %>% mutate(group=c(\"Total\")) %>%\n",
    "mutate(years = case_when(age_group1==1 ~ c(\"under 20\"), age_group1==2 ~ c(\"20-29\"), age_group1==3 ~ c(\"30-39\"),\n",
    "                         age_group1==4 ~ c(\"40-49\"), age_group1==5 ~ c(\"50-59\"), \n",
    "                         age_group1==6 ~ c(\"60 and over\"))) -> prev_age1 \n",
    "\n",
    "## Male\n",
    "raw_data_detail %>% filter(sex==1) %>% group_by(age_group1) %>% summarise(Prevalence=sum(Csinensis)/n()) %>% \n",
    "na.omit() %>% as.data.frame() %>% mutate(group=c(\"Male\")) %>%\n",
    "mutate(years = case_when(age_group1==1 ~ c(\"under 20\"), age_group1==2 ~ c(\"20-29\"), age_group1==3 ~ c(\"30-39\"),\n",
    "                         age_group1==4 ~ c(\"40-49\"), age_group1==5 ~ c(\"50-59\"), \n",
    "                         age_group1==6 ~ c(\"60 and over\"))) -> prev_age1_m\n",
    "\n",
    "## Female\n",
    "raw_data_detail %>% filter(sex==2) %>% group_by(age_group1) %>% summarise(Prevalence=sum(Csinensis)/n()) %>% \n",
    "na.omit() %>% as.data.frame() %>% mutate(group=c(\"Female\")) %>%\n",
    "mutate(years = case_when(age_group1==1 ~ c(\"under 20\"), age_group1==2 ~ c(\"20-29\"), age_group1==3 ~ c(\"30-39\"),\n",
    "                         age_group1==4 ~ c(\"40-49\"), age_group1==5 ~ c(\"50-59\"), \n",
    "                         age_group1==6 ~ c(\"60 and over\"))) -> prev_age1_f\n",
    "\n",
    "do.call(\"rbind\", list(prev_age1, prev_age1_m, prev_age1_f)) -> prev_age1_total"
   ]
  },
  {
   "cell_type": "code",
   "execution_count": null,
   "metadata": {},
   "outputs": [],
   "source": [
    "prev_age1_total$group <- factor(prev_age1_total$group, levels=c(\"Total\", \"Male\", \"Female\"))\n",
    "prev_age1_total$years <- factor(prev_age1_total$years, levels=c(\"under 20\", \"20-29\", \"30-39\", \"40-49\",\n",
    "                                                                \"50-59\", \"60 and over\"))\n",
    "\n",
    "options(repr.plot.width=8,repr.plot.height=6)\n",
    "ggplot(data=prev_age1_total %>% mutate(Prev_per = Prevalence*100), aes(x=years, y=Prev_per, fill=group, width=.75)) +\n",
    "geom_bar(stat=\"identity\", position=position_dodge()) +\n",
    "scale_fill_manual(\"Sex\", values = c(\"Total\" = \"#FAAB18\", \"Male\" = \"#1380A1\", \"Female\" = \"#990000\")) +\n",
    "ggtitle(\"Prevalence of Clonorchis sinensis infection in 2012\") +\n",
    "labs(x=\"\\n Age group\", y=\"Prevalence (%) \\n\") +\n",
    "theme(text = element_text(size=16, family=\"sans\",color=\"black\"),\n",
    "      axis.text = element_text(size=15, family=\"sans\",color=\"black\"),\n",
    "      panel.grid.major = element_blank(), panel.grid.minor = element_blank(),\n",
    "      legend.title = element_text(size = 17),\n",
    "      legend.text = element_text(size = 15)) +\n",
    "coord_cartesian(ylim = c(0, 6)) +\n",
    "scale_y_continuous(expand = c(0, 0)) -> prev_agegroup1"
   ]
  },
  {
   "cell_type": "code",
   "execution_count": null,
   "metadata": {},
   "outputs": [],
   "source": [
    "raw_data_detail %>% group_by(postal_2) %>% \n",
    "summarise(Prevalence=sum(Csinensis)/n()) %>% as.data.frame() -> prev_region2"
   ]
  },
  {
   "cell_type": "markdown",
   "metadata": {},
   "source": [
    "# Proportion of raw freshwater fish consumption"
   ]
  },
  {
   "cell_type": "code",
   "execution_count": null,
   "metadata": {},
   "outputs": [],
   "source": [
    "raw_data_detail$fresh <- as.numeric(raw_data_detail$fresh)\n",
    "raw_data_detail %>% mutate(fresh_val = case_when(fresh==2 ~ 0, fresh==1~1)) %>% na.omit(fresh_val) -> raw_data_detail2\n",
    "\n",
    "## Total\n",
    "raw_data_detail2 %>% group_by(age_group1) %>% summarise(Proportion=sum(fresh_val)/n()) %>% \n",
    "na.omit() %>% as.data.frame() %>% mutate(group=c(\"Total\")) %>%\n",
    "mutate(years = case_when(age_group1==1 ~ c(\"under 20\"), age_group1==2 ~ c(\"20-29\"), age_group1==3 ~ c(\"30-39\"),\n",
    "                         age_group1==4 ~ c(\"40-49\"), age_group1==5 ~ c(\"50-59\"), \n",
    "                         age_group1==6 ~ c(\"60 and over\"))) -> prev_fresh1 \n",
    "\n",
    "## Male\n",
    "raw_data_detail2 %>% filter(sex==1) %>% group_by(age_group1) %>% summarise(Proportion=sum(fresh_val)/n()) %>% \n",
    "na.omit() %>% as.data.frame() %>% mutate(group=c(\"Male\")) %>%\n",
    "mutate(years = case_when(age_group1==1 ~ c(\"under 20\"), age_group1==2 ~ c(\"20-29\"), age_group1==3 ~ c(\"30-39\"),\n",
    "                         age_group1==4 ~ c(\"40-49\"), age_group1==5 ~ c(\"50-59\"), \n",
    "                         age_group1==6 ~ c(\"60 and over\"))) -> prev_fresh1_m\n",
    "## Female\n",
    "raw_data_detail2 %>% filter(sex==2) %>% group_by(age_group1) %>% summarise(Proportion=sum(fresh_val)/n()) %>% \n",
    "na.omit() %>% as.data.frame() %>% mutate(group=c(\"Female\")) %>%\n",
    "mutate(years = case_when(age_group1==1 ~ c(\"under 20\"), age_group1==2 ~ c(\"20-29\"), age_group1==3 ~ c(\"30-39\"),\n",
    "                         age_group1==4 ~ c(\"40-49\"), age_group1==5 ~ c(\"50-59\"), \n",
    "                         age_group1==6 ~ c(\"60 and over\"))) -> prev_fresh1_f\n",
    "\n",
    "do.call(\"rbind\", list(prev_fresh1, prev_fresh1_m, prev_fresh1_f)) -> prev_fresh1_total"
   ]
  },
  {
   "cell_type": "code",
   "execution_count": null,
   "metadata": {},
   "outputs": [],
   "source": [
    "raw_data_detail2 %>% group_by(postal_2) %>% \n",
    "summarise(Proportion=sum(fresh_val)/n()) %>% as.data.frame() -> prop_region2"
   ]
  },
  {
   "cell_type": "code",
   "execution_count": null,
   "metadata": {},
   "outputs": [],
   "source": [
    "prev_fresh1_total$group <- factor(prev_fresh1_total$group, levels=c(\"Total\", \"Male\", \"Female\"))\n",
    "prev_fresh1_total$years <- factor(prev_fresh1_total$years, levels=c(\"under 20\", \"20-29\", \"30-39\", \"40-49\",\n",
    "                                                                    \"50-59\", \"60 and over\"))\n",
    "\n",
    "options(repr.plot.width=8,repr.plot.height=6)\n",
    "ggplot(data=prev_fresh1_total %>% mutate(Prop_per = Proportion*100), \n",
    "       aes(x=years, y=Prop_per, fill=group, width=.75)) +\n",
    "geom_bar(stat=\"identity\", position=position_dodge()) +\n",
    "scale_fill_manual(\"Sex\", values = c(\"Total\" = \"#FAAB18\", \"Male\" = \"#1380A1\", \"Female\" = \"#990000\")) +\n",
    "ggtitle(\"Raw freshwater fish consumption behavior in 2012\") +\n",
    "labs(x=\"\\n Age group\", y=\"Proportion (%) \\n\") +\n",
    "theme(text = element_text(size=16, family=\"sans\",color=\"black\"),\n",
    "      axis.text = element_text(size=15, family=\"sans\",color=\"black\"),\n",
    "      panel.grid.major = element_blank(), panel.grid.minor = element_blank(),\n",
    "      legend.title = element_text(size = 17),\n",
    "      legend.text = element_text(size = 15)) +\n",
    "coord_cartesian(ylim = c(0, 40)) +\n",
    "scale_y_continuous(expand = c(0, 0)) -> prop_agegroup1"
   ]
  },
  {
   "cell_type": "code",
   "execution_count": null,
   "metadata": {},
   "outputs": [],
   "source": [
    "library(ggpubr)\n",
    "options(repr.plot.width=16,repr.plot.height=6)\n",
    "ggarrange(prev_agegroup1, ggplot() + theme_void(), prop_agegroup1, \n",
    "          ncol = 3, nrow = 1, widths = c(1, 0.05, 1, 0.05, 1),  \n",
    "          labels = c(\"A\", \"\", \"B\"), font.label = list(size = 25), vjust=1.15,\n",
    "          common.legend = TRUE, legend = \"right\")"
   ]
  },
  {
   "cell_type": "code",
   "execution_count": null,
   "metadata": {},
   "outputs": [],
   "source": [
    "raw_data_detail %>% dplyr::select(postal_1, postal_2) %>% unique() -> address_dt\n",
    "\n",
    "merge(prop_region2, prev_region2, by=c(\"postal_2\")) -> corr_dt\n",
    "merge(corr_dt, address_dt, by=c(\"postal_2\"), all.x=TRUE) %>% \n",
    "mutate(Prop_per=Proportion*100, Prev_per=Prevalence*100) %>%\n",
    "mutate(Region=\n",
    "       case_when(postal_1==c(\"서울특별시\") ~ c(\"Seoul\"), postal_1==c(\"인천광역시\") ~ c(\"Incheon\"), \n",
    "                 postal_1==c(\"경기도\") ~ c(\"Gyeonggi\"), postal_1==c(\"강원도\") ~ c(\"Gangwon\"),\n",
    "                 postal_1==c(\"충청남도\") ~ c(\"Chungcheongnam\"), postal_1==c(\"충청북도\") ~ c(\"Chungcheongbuk\"),\n",
    "                 postal_1==c(\"전라남도\") ~ c(\"Jeollanam\"), postal_1==c(\"전라북도\") ~ c(\"Jeollabuk\"),\n",
    "                 postal_1==c(\"경상남도\") ~ c(\"Gyeongsangnam\"), postal_1==c(\"경상북도\") ~ c(\"Gyeongsangbuk\"),\n",
    "                 postal_1==c(\"광주광역시\") ~ c(\"Gwangju\"), postal_1==c(\"부산광역시\") ~ c(\"Busan\"),\n",
    "                 postal_1==c(\"대구광역시\") ~ c(\"Daegu\"), postal_1==c(\"울산광역시\") ~ c(\"Ulsan\"),\n",
    "                 postal_1==c(\"대전광역시\") ~ c(\"Daejeon\"), postal_1==c(\"제주특별자치도\") ~ c(\"Jeju\"))) -> corr_dt\n",
    "\n",
    "corr_dt$Region <- factor(corr_dt$Region, \n",
    "                         levels=c(\"Seoul\", \"Busan\", \"Daegu\", \"Incheon\", \"Gwangju\", \"Daejeon\", \"Ulsan\",\n",
    "                                  \"Gyeonggi\", \"Gangwon\", \"Chungcheongbuk\", \"Chungcheongnam\", \n",
    "                                  \"Jeollabuk\", \"Jeollanam\", \"Gyeongsangbuk\", \"Gyeongsangnam\", \"Jeju\"))\n",
    "\n",
    "options(warn=-1, repr.plot.width=9,repr.plot.height=6)\n",
    "corr_dt %>% #filter(Region!=c(\"Gangwon-do\")) %>%\n",
    "ggplot() + \n",
    "geom_point(aes(x = Prop_per, y = Prev_per, color = Region), \n",
    "           size=4, shape = 20) +\n",
    "geom_smooth(aes(x = Prop_per, y = Prev_per), \n",
    "            method=lm, linetype = \"dashed\", size=0.8, colour=\"#FAAB18\", fill=\"#FAAB18\")  +\n",
    "labs(x=\"\\n Proportion of individual with raw freshwater fish consumption behavior (%)\", \n",
    "     y=\"Prevalence of Clonorchis sinensis infectionin (%) \\n\") +\n",
    "theme(text = element_text(size=15, color=\"black\"),\n",
    "      plot.title = element_text(size=18, color=\"black\"),\n",
    "      axis.title = element_text(size=15, color=\"black\"),\n",
    "      axis.text = element_text(size=15, color=\"black\"),\n",
    "      legend.title = element_text(size = 17),\n",
    "      legend.text = element_text(size = 15)) +\n",
    "coord_cartesian(ylim = c(0, 20), xlim = c(0,100))\n",
    "ggsave(\"../../figures/final_figures/FigS2.png\", width = 9, height = 6)\n",
    "\n",
    "cor.test(corr_dt$Prop_per, corr_dt$Prev_per)"
   ]
  }
 ],
 "metadata": {
  "kernelspec": {
   "display_name": "R",
   "language": "R",
   "name": "ir"
  },
  "language_info": {
   "codemirror_mode": "r",
   "file_extension": ".r",
   "mimetype": "text/x-r-source",
   "name": "R",
   "pygments_lexer": "r",
   "version": "4.3.2"
  }
 },
 "nbformat": 4,
 "nbformat_minor": 4
}
